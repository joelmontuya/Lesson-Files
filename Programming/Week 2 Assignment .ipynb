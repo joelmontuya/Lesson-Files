{
 "cells": [
  {
   "cell_type": "markdown",
   "id": "f26eebe2-8aac-49be-a9eb-60e313368156",
   "metadata": {},
   "source": [
    "# Week 2 - Assignment\n",
    "\n",
    "Chapter 3 exercises on conditional statements"
   ]
  },
  {
   "cell_type": "markdown",
   "id": "a26d9ff1-d8fc-4421-8460-cb76fc20a59d",
   "metadata": {},
   "source": [
    "#### Exercise 1: Rewrite your pay computation to give the employee 1.5 times the hourly rate for hours worked above 40 hours."
   ]
  },
  {
   "cell_type": "code",
   "execution_count": 1,
   "id": "c56ee8de-a51c-459d-92f5-8b188cd5c85e",
   "metadata": {},
   "outputs": [
    {
     "name": "stdin",
     "output_type": "stream",
     "text": [
      "Enter Hours: 45\n",
      "Enter Rate: 100\n"
     ]
    },
    {
     "name": "stdout",
     "output_type": "stream",
     "text": [
      "Pay: 4750.0\n"
     ]
    }
   ],
   "source": [
    "# Ask for the hours worked and pay rate\n",
    "hours=float(input(\"Enter Hours:\"))\n",
    "rate=float(input(\"Enter Rate:\"))\n",
    "salary=0\n",
    "\n",
    "if hours <= 40:\n",
    "    salary = hours * rate\n",
    "else:\n",
    "    salary = (40 * rate) + ((hours - 40) * (rate * 1.5)) # normal rate + rate above 40 hours\n",
    "\n",
    "print(f\"Pay: {salary}\")\n",
    "    "
   ]
  },
  {
   "cell_type": "markdown",
   "id": "215936a3-579d-48f1-95ef-db55a703641f",
   "metadata": {},
   "source": [
    "#### Exercise 2: Rewrite your pay program using try and except so that your program handles non-numeric input gracefully by printing a message and exiting the program. "
   ]
  },
  {
   "cell_type": "code",
   "execution_count": 19,
   "id": "46cdc8c9-216b-4604-a660-300389e2dc73",
   "metadata": {},
   "outputs": [
    {
     "name": "stdin",
     "output_type": "stream",
     "text": [
      "Enter Hours: nine\n"
     ]
    },
    {
     "name": "stdout",
     "output_type": "stream",
     "text": [
      "Error, enter numeric input\n"
     ]
    }
   ],
   "source": [
    "# Ask for the hours worked and pay rate\n",
    "try:\n",
    "    hours=float(input(\"Enter Hours:\"))\n",
    "    rate=float(input(\"Enter Rate:\"))\n",
    "except ValueError:\n",
    "    print('Error, enter numeric input')"
   ]
  },
  {
   "cell_type": "markdown",
   "id": "5336af73-d98d-4ccf-a7ee-c501232322bb",
   "metadata": {},
   "source": [
    "#### Exercise 3: Write a program to prompt for a score between 0.0 and 1.0. If the score is out of range, print an error message. If the score is between 0.0 and 1.0, print a grade using the following table:"
   ]
  },
  {
   "cell_type": "code",
   "execution_count": 27,
   "id": "c2a1c8b5-81f0-4189-925f-16de8d4645cc",
   "metadata": {},
   "outputs": [
    {
     "name": "stdin",
     "output_type": "stream",
     "text": [
      "Enter score: perfect\n"
     ]
    },
    {
     "name": "stdout",
     "output_type": "stream",
     "text": [
      "Bad Score\n"
     ]
    }
   ],
   "source": [
    "# Ask for the score\n",
    "\n",
    "try: \n",
    "    score = float(input(\"Enter score:\"))\n",
    "    \n",
    "    if score < 0 or score > 1: # Check if the score is within bounds, and throw an error if out of range.\n",
    "        raise ValueError()\n",
    "    elif score >=0.9 and score<=1:\n",
    "        print('A')\n",
    "    elif score >=0.8 and score <0.9:\n",
    "        print('B')\n",
    "    elif score >=0.7 and score <0.8:\n",
    "        print('C')\n",
    "    elif score >=0.6 and score <0.7:\n",
    "        print('D')\n",
    "    else:\n",
    "        print('F')\n",
    "    \n",
    "except ValueError or TypeError:\n",
    "    print('Bad Score')"
   ]
  },
  {
   "cell_type": "code",
   "execution_count": null,
   "id": "e88082e1-cad2-49ee-be5c-c88499432935",
   "metadata": {},
   "outputs": [],
   "source": []
  }
 ],
 "metadata": {
  "kernelspec": {
   "name": "python3"
  },
  "language_info": {
   "codemirror_mode": {
    "name": "ipython",
    "version": 3
   },
   "file_extension": ".py",
   "mimetype": "text/x-python",
   "name": "python",
   "nbconvert_exporter": "python",
   "pygments_lexer": "ipython3",
   "version": "3.12.7"
  }
 },
 "nbformat": 4,
 "nbformat_minor": 5
}
