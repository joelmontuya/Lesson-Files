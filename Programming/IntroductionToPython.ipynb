{
 "cells": [
  {
   "cell_type": "markdown",
   "id": "2c78ae71-bf72-44dc-b288-4add8f6af295",
   "metadata": {},
   "source": [
    "# <b>Introduction to Python Programming</b>\n",
    "\n",
    "<p> We can also embred LaTeX formulas by surrounding the equations with \\$ </p>\n",
    "\n",
    "<b>Example</b> $\\sqrt(100)$ or $100^2$\n"
   ]
  },
  {
   "cell_type": "code",
   "execution_count": 30,
   "id": "7c9be13b-c664-4a0c-a602-0ccc9ce6e6e0",
   "metadata": {},
   "outputs": [],
   "source": [
    "#Basic Mathematical Operators\n",
    "\n",
    "\n",
    "add = 1 + 3\n",
    "subtraction = 3 - 1\n",
    "multiplication = 5 * 5\n",
    "division = 9 / 3\n",
    "power = 3 ** 3\n",
    "sqrt = 6 ** 0.5\n",
    "remainder = 21%4\n"
   ]
  },
  {
   "cell_type": "code",
   "execution_count": 9,
   "id": "e2483f54-51b2-4425-b5ff-9ff1f9647adc",
   "metadata": {},
   "outputs": [
    {
     "name": "stdout",
     "output_type": "stream",
     "text": [
      "<class 'int'>\n",
      "<class 'float'>\n",
      "<class 'str'>\n",
      "<class 'list'>\n",
      "<class 'set'>\n",
      "<class 'dict'>\n",
      "<class 'bool'>\n"
     ]
    }
   ],
   "source": [
    "#Checking Variable Type use the type() function\n",
    "\n",
    "print(type(5)) # Integer\n",
    "print(type(5.0)) # Float\n",
    "print(type('Hi')) # String\n",
    "print(type([1,2])) # List\n",
    "print((type({1,2}))) # Set\n",
    "print((type({'a':1}))) # Dictionary\n",
    "print((type(True))) # Boolean"
   ]
  },
  {
   "cell_type": "code",
   "execution_count": 10,
   "id": "9873acd5-f07a-4dff-901e-11c6ae62fae8",
   "metadata": {},
   "outputs": [
    {
     "name": "stdout",
     "output_type": "stream",
     "text": [
      "\n",
      "**************************************\n",
      "\n",
      "Welcome to the world of Data Analytics\n",
      "\n",
      "**************************************\n",
      "\n"
     ]
    }
   ],
   "source": [
    "#Multiline Strings\n",
    "\n",
    "m_strings = \"\"\"\n",
    "**************************************\n",
    "\n",
    "Welcome to the world of Data Analytics\n",
    "\n",
    "**************************************\n",
    "\"\"\"\n",
    "\n",
    "print(m_strings)"
   ]
  },
  {
   "cell_type": "markdown",
   "id": "f8a899c9-68ec-4bf7-ba57-9c11b2425cab",
   "metadata": {},
   "source": [
    "## Common Functions"
   ]
  },
  {
   "cell_type": "code",
   "execution_count": 23,
   "id": "f10f6964-6e9c-4a02-8535-cfbf8d3c955f",
   "metadata": {},
   "outputs": [
    {
     "name": "stdin",
     "output_type": "stream",
     "text": [
      "What is your name? Joel\n"
     ]
    },
    {
     "data": {
      "text/plain": [
       "'Joel'"
      ]
     },
     "execution_count": 23,
     "metadata": {},
     "output_type": "execute_result"
    }
   ],
   "source": [
    "# input(\"Question\") : ask for user's input\n",
    "name = input(\"What is your name?\")\n",
    "name"
   ]
  },
  {
   "cell_type": "markdown",
   "id": "f169fdf0-f3a2-442d-a9ee-bb819da92a6e",
   "metadata": {},
   "source": [
    "### Exercises 2.15\n"
   ]
  },
  {
   "cell_type": "code",
   "execution_count": 34,
   "id": "37108891-681c-4831-9d6e-184192e2cbc0",
   "metadata": {},
   "outputs": [
    {
     "name": "stdin",
     "output_type": "stream",
     "text": [
      "Enter your name: Joel\n"
     ]
    },
    {
     "name": "stdout",
     "output_type": "stream",
     "text": [
      "Hello Joel\n"
     ]
    }
   ],
   "source": [
    "# Exercise 2 - ask for the user for their names and welcome them.\n",
    "name = input(\"Enter your name:\")\n",
    "print(\"Hello\", name)"
   ]
  },
  {
   "cell_type": "code",
   "execution_count": 44,
   "id": "ab212f6d-e02e-48be-956f-20ca4d52909e",
   "metadata": {},
   "outputs": [
    {
     "name": "stdin",
     "output_type": "stream",
     "text": [
      "Enter Hours: 5\n",
      "Enter Rate: 5\n"
     ]
    },
    {
     "name": "stdout",
     "output_type": "stream",
     "text": [
      "Pay: 25.0\n"
     ]
    }
   ],
   "source": [
    "# Exercise 3 - calculate the pay based on hours and payrate\n",
    "hours = float(input(\"Enter Hours:\"))\n",
    "rate = float(input(\"Enter Rate:\"))\n",
    "print(\"Pay:\", hours*rate)"
   ]
  },
  {
   "cell_type": "code",
   "execution_count": 46,
   "id": "f01291a1-a970-4ea2-8061-8ce6cd522031",
   "metadata": {},
   "outputs": [
    {
     "name": "stdout",
     "output_type": "stream",
     "text": [
      "8 <class 'int'>\n",
      "8.5 <class 'float'>\n",
      "4.0 <class 'float'>\n",
      "11 <class 'int'>\n"
     ]
    }
   ],
   "source": [
    "# Excercise 4 - calculate and show the type\n",
    "width = 17\n",
    "height = 12.0\n",
    "\n",
    "print(width//2, type(width//2))\n",
    "print(width/2.0, type(width/2.0))\n",
    "print(height/3 , type(height/3))\n",
    "print(1+2*5, type(1+2*5))"
   ]
  },
  {
   "cell_type": "code",
   "execution_count": 52,
   "id": "39f76371-bfa4-49bf-a5fb-5051e8addfe1",
   "metadata": {},
   "outputs": [
    {
     "name": "stdin",
     "output_type": "stream",
     "text": [
      "Enter temperature in Celsius: 20\n"
     ]
    },
    {
     "name": "stdout",
     "output_type": "stream",
     "text": [
      "Temperature in Fahrenheit: 68.0\n"
     ]
    }
   ],
   "source": [
    "# Celsius to Fahrenheit Converter\n",
    "temp_c = float(input(\"Enter temperature in Celsius:\"))\n",
    "temp_f = ((9/5) * temp_c) + 32\n",
    "print(\"Temperature in Fahrenheit:\", temp_f)"
   ]
  },
  {
   "cell_type": "code",
   "execution_count": null,
   "id": "7d65f761-ad9f-423b-ac79-7ecc8f646bdc",
   "metadata": {},
   "outputs": [],
   "source": []
  }
 ],
 "metadata": {
  "kernelspec": {
   "display_name": "Python [conda env:base] *",
   "language": "python",
   "name": "conda-base-py"
  },
  "language_info": {
   "codemirror_mode": {
    "name": "ipython",
    "version": 3
   },
   "file_extension": ".py",
   "mimetype": "text/x-python",
   "name": "python",
   "nbconvert_exporter": "python",
   "pygments_lexer": "ipython3",
   "version": "3.12.7"
  }
 },
 "nbformat": 4,
 "nbformat_minor": 5
}
