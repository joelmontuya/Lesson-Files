{
 "cells": [
  {
   "cell_type": "markdown",
   "id": "75efda5c-e4c5-4869-878b-98711e17f03c",
   "metadata": {},
   "source": [
    "# Chapter 2 Excercises\n",
    "\n",
    "#### Exercise 2: Write a program that uses input to prompt a user for their name and then welcomes them."
   ]
  },
  {
   "cell_type": "code",
   "execution_count": 6,
   "id": "09df1039-75f4-4357-8b66-b73ff0e3b0a1",
   "metadata": {},
   "outputs": [
    {
     "name": "stdin",
     "output_type": "stream",
     "text": [
      "What is your name? \n",
      " Joel\n"
     ]
    },
    {
     "name": "stdout",
     "output_type": "stream",
     "text": [
      "Hello Joel\n"
     ]
    }
   ],
   "source": [
    "name=input(\"What is your name? \\n\")\n",
    "print(f\"Hello {name}\")"
   ]
  },
  {
   "cell_type": "markdown",
   "id": "87729341-9b77-45f7-a2d1-87add2317dcb",
   "metadata": {},
   "source": [
    "#### Exercise 3: Write a program to prompt the user for hours and rate per\n",
    "hour to compute gross pay."
   ]
  },
  {
   "cell_type": "code",
   "execution_count": 11,
   "id": "534a0331-b2da-4295-95d1-8aaaaa27b0c9",
   "metadata": {},
   "outputs": [
    {
     "name": "stdin",
     "output_type": "stream",
     "text": [
      "Enter Hours: 35\n",
      "Enter Rate: 2.75\n"
     ]
    },
    {
     "name": "stdout",
     "output_type": "stream",
     "text": [
      "Pay: 96.25\n"
     ]
    }
   ],
   "source": [
    "hours=float(input(\"Enter Hours:\"))\n",
    "rate= float(input(\"Enter Rate:\"))\n",
    "print(f\"Pay: {hours * rate}\")"
   ]
  },
  {
   "cell_type": "markdown",
   "id": "71cabb16-89a5-4206-8ae5-2b1a8b655e1c",
   "metadata": {},
   "source": [
    "#### Exercise 4: Assume that we execute the following assignment statements:\n",
    "\n",
    "   <i>width = 17  </i> \n",
    "   <i>height = 12.0</i>"
   ]
  },
  {
   "cell_type": "code",
   "execution_count": 24,
   "id": "4ae1bd66-a01e-42b6-813a-65b0ce642d35",
   "metadata": {},
   "outputs": [
    {
     "name": "stdout",
     "output_type": "stream",
     "text": [
      "8 <class 'int'>\n",
      "8.5 <class 'float'>\n",
      "4.0 <class 'float'>\n",
      "11 <class 'int'>\n"
     ]
    }
   ],
   "source": [
    "width = 17\n",
    "height = 12.0\n",
    "\n",
    "print(width//2, type(width//2)) #integer divion\n",
    "print(width/2.0, type(width/2.0))\n",
    "print(height/3 , type(height/3))\n",
    "print(1+2*5, type(1+2*5))"
   ]
  },
  {
   "cell_type": "markdown",
   "id": "a1df8645-559a-409f-aa05-d3469c5b1a50",
   "metadata": {},
   "source": [
    "#### Exercise 5: Write a program which prompts the user for a Celsius temperature, convert the temperature to Fahrenheit, and print out the converted temperature."
   ]
  },
  {
   "cell_type": "code",
   "execution_count": 33,
   "id": "15930212-4d58-491e-9499-9badc51a3797",
   "metadata": {},
   "outputs": [
    {
     "name": "stdin",
     "output_type": "stream",
     "text": [
      "Enter temperature in Celsius: 6\n"
     ]
    },
    {
     "name": "stdout",
     "output_type": "stream",
     "text": [
      "Temperature in Fahrenheit: 42.8\n"
     ]
    }
   ],
   "source": [
    "# Celsius to Fahrenheit Converter\n",
    "temp_c = float(input(\"Enter temperature in Celsius:\"))\n",
    "temp_f = ((9/5) * temp_c) + 32\n",
    "print(\"Temperature in Fahrenheit:\", temp_f)"
   ]
  },
  {
   "cell_type": "code",
   "execution_count": null,
   "id": "be822fe5-cfbc-42e8-abf8-8cc0adeff5d0",
   "metadata": {},
   "outputs": [],
   "source": []
  }
 ],
 "metadata": {
  "kernelspec": {
   "display_name": "Python [conda env:base] *",
   "language": "python",
   "name": "conda-base-py"
  },
  "language_info": {
   "codemirror_mode": {
    "name": "ipython",
    "version": 3
   },
   "file_extension": ".py",
   "mimetype": "text/x-python",
   "name": "python",
   "nbconvert_exporter": "python",
   "pygments_lexer": "ipython3",
   "version": "3.12.7"
  }
 },
 "nbformat": 4,
 "nbformat_minor": 5
}
